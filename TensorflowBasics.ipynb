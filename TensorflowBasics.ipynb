{
  "nbformat": 4,
  "nbformat_minor": 0,
  "metadata": {
    "colab": {
      "provenance": [],
      "authorship_tag": "ABX9TyMTpm+RkjvD2+1O/SiY5qDR",
      "include_colab_link": true
    },
    "kernelspec": {
      "name": "python3",
      "display_name": "Python 3"
    },
    "language_info": {
      "name": "python"
    }
  },
  "cells": [
    {
      "cell_type": "markdown",
      "metadata": {
        "id": "view-in-github",
        "colab_type": "text"
      },
      "source": [
        "<a href=\"https://colab.research.google.com/github/RiteshW991/Machine-Learning/blob/main/TensorflowBasics.ipynb\" target=\"_parent\"><img src=\"https://colab.research.google.com/assets/colab-badge.svg\" alt=\"Open In Colab\"/></a>"
      ]
    },
    {
      "cell_type": "code",
      "execution_count": null,
      "metadata": {
        "id": "ToLy1Mc3lIXb"
      },
      "outputs": [],
      "source": [
        "import tensorflow as tf"
      ]
    },
    {
      "cell_type": "code",
      "source": [
        "const= tf.constant([1, 2, 3], dtype=tf.float32)\n",
        "var = tf.Variable([4, 5, 6], dtype=tf.float32)\n",
        "mat = tf.constant([[1,2,1],[2,1,4]])\n",
        "\n",
        "print(\"Constant Tensor:\",const)\n",
        "print(\"Variable Tensor:\",var)\n",
        "print(\"Matrix Tensor:\",mat)"
      ],
      "metadata": {
        "colab": {
          "base_uri": "https://localhost:8080/"
        },
        "id": "9HNN6jHI0nky",
        "outputId": "e214d64b-b4f3-4e94-b7cc-06e6fa49262f"
      },
      "execution_count": null,
      "outputs": [
        {
          "output_type": "stream",
          "name": "stdout",
          "text": [
            "Constant Tensor: tf.Tensor([1. 2. 3.], shape=(3,), dtype=float32)\n",
            "Variable Tensor: <tf.Variable 'Variable:0' shape=(3,) dtype=float32, numpy=array([4., 5., 6.], dtype=float32)>\n",
            "Matrix Tensor: tf.Tensor(\n",
            "[[1 2 1]\n",
            " [2 1 4]], shape=(2, 3), dtype=int32)\n"
          ]
        }
      ]
    },
    {
      "cell_type": "code",
      "source": [
        "a = tf.constant(3)\n",
        "b = tf.constant(4)\n",
        "\n",
        "sum_ab = tf.add(a, b)\n",
        "product_ab = tf.multiply(a, b)\n",
        "print(\"Sum:\", sum_ab.numpy())\n",
        "print(\"Product:\", product_ab.numpy())"
      ],
      "metadata": {
        "colab": {
          "base_uri": "https://localhost:8080/"
        },
        "id": "OjuzqIEuu4ds",
        "outputId": "80fd2268-857f-4174-8762-558fb0af680c"
      },
      "execution_count": null,
      "outputs": [
        {
          "output_type": "stream",
          "name": "stdout",
          "text": [
            "Sum: 7\n",
            "Product: 12\n"
          ]
        }
      ]
    },
    {
      "cell_type": "code",
      "source": [
        "my_graph = tf.Graph()\n",
        "with my_graph.as_default():\n",
        "    a = tf.constant(2)\n",
        "    b = tf.constant(3)\n",
        "    addition = a + b\n",
        "\n",
        "with tf.compat.v1.Session(graph=my_graph) as sess:\n",
        "    result = sess.run(addition)\n",
        "    print(\"Result of a + b:\", result)"
      ],
      "metadata": {
        "colab": {
          "base_uri": "https://localhost:8080/"
        },
        "id": "5RSiNkOJvsht",
        "outputId": "eae098db-1919-4106-9b8e-05ea3326054e"
      },
      "execution_count": null,
      "outputs": [
        {
          "output_type": "stream",
          "name": "stdout",
          "text": [
            "Result of a + b: 5\n"
          ]
        }
      ]
    },
    {
      "cell_type": "code",
      "source": [
        "t = tf.Variable(0)\n",
        "def increment():\n",
        "    t.assign(t + 1)\n",
        "\n",
        "for _ in range(5):\n",
        "    increment()\n",
        "    var_value = t.numpy()\n",
        "    print(\"After increment:\", var_value)"
      ],
      "metadata": {
        "colab": {
          "base_uri": "https://localhost:8080/"
        },
        "id": "iSbFQRqm2bkt",
        "outputId": "97e70064-d619-42fe-9ac2-645b00006e87"
      },
      "execution_count": null,
      "outputs": [
        {
          "output_type": "stream",
          "name": "stdout",
          "text": [
            "After increment: 1\n",
            "After increment: 2\n",
            "After increment: 3\n",
            "After increment: 4\n",
            "After increment: 5\n"
          ]
        }
      ]
    },
    {
      "cell_type": "code",
      "source": [
        "tf.compat.v1.disable_eager_execution()\n",
        "input = tf.compat.v1.placeholder(tf.float32, shape=(None, 2))\n",
        "mul = input * 2\n",
        "\n",
        "with tf.compat.v1.Session() as sess:\n",
        "    data = [[1, 2], [3, 4], [5, 6]]\n",
        "    result = sess.run(mul, feed_dict={input: data})\n",
        "    print(\"Result:\\n\", result)"
      ],
      "metadata": {
        "colab": {
          "base_uri": "https://localhost:8080/"
        },
        "id": "uZmGLE6O7_QI",
        "outputId": "eb81a193-bd50-4ba4-ecb2-6f4cafe428c3"
      },
      "execution_count": null,
      "outputs": [
        {
          "output_type": "stream",
          "name": "stdout",
          "text": [
            "Result:\n",
            " [[ 2.  4.]\n",
            " [ 6.  8.]\n",
            " [10. 12.]]\n"
          ]
        }
      ]
    }
  ]
}